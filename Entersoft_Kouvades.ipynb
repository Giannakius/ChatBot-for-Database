{
  "cells": [
    {
      "cell_type": "code",
      "execution_count": null,
      "metadata": {
        "id": "TLiyL0mk4vOg"
      },
      "outputs": [],
      "source": [
        " pip install langchain_openai langchain_community langchain pymysql chromadb pyngrok flask -q"
      ]
    },
    {
      "cell_type": "code",
      "execution_count": 37,
      "metadata": {
        "id": "qtdqWJnMOMir"
      },
      "outputs": [],
      "source": [
        " import os\n",
        " os.environ[\"OPENAI_API_KEY\"] = \"sk-proj-TzuO4YHFVwaw8sTLcupST3BlbkFJaHHZh88uu0IYhFhI3htF\"\n",
        "\n",
        " db_user = \"hackathon\"\n",
        " db_password = \"hackathon\"\n",
        " db_host = \"panosgio.org\"\n",
        " db_name = \"hackathon\"\n",
        " from langchain_community.utilities.sql_database import SQLDatabase\n",
        " db = SQLDatabase.from_uri(f\"mysql+pymysql://{db_user}:{db_password}@{db_host}/{db_name}\")\n"
      ]
    },
    {
      "cell_type": "code",
      "execution_count": null,
      "metadata": {
        "colab": {
          "base_uri": "https://localhost:8080/"
        },
        "id": "_RiSa5kn44S1",
        "outputId": "4105462d-1098-43e0-af1e-fcf7099c1d72"
      },
      "outputs": [
        {
          "output_type": "stream",
          "name": "stdout",
          "text": [
            " * Tunnel URL: https://255e-34-86-108-162.ngrok-free.app\n",
            " * Serving Flask app '__main__'\n",
            " * Debug mode: off\n"
          ]
        },
        {
          "output_type": "stream",
          "name": "stderr",
          "text": [
            "INFO:werkzeug:\u001b[31m\u001b[1mWARNING: This is a development server. Do not use it in a production deployment. Use a production WSGI server instead.\u001b[0m\n",
            " * Running on http://127.0.0.1:5000\n",
            "INFO:werkzeug:\u001b[33mPress CTRL+C to quit\u001b[0m\n",
            "INFO:werkzeug:127.0.0.1 - - [21/Apr/2024 09:51:42] \"GET / HTTP/1.1\" 200 -\n",
            "INFO:werkzeug:127.0.0.1 - - [21/Apr/2024 09:51:43] \"\u001b[33mGET /favicon.ico HTTP/1.1\u001b[0m\" 404 -\n"
          ]
        },
        {
          "output_type": "stream",
          "name": "stdout",
          "text": [
            "SELECT `Product Description`, `Revenue` \n",
            "FROM LastWeekTopProducts \n",
            "ORDER BY `Revenue` DESC \n",
            "LIMIT 1\n"
          ]
        },
        {
          "output_type": "stream",
          "name": "stderr",
          "text": [
            "INFO:werkzeug:127.0.0.1 - - [21/Apr/2024 09:51:50] \"POST /run_query HTTP/1.1\" 200 -\n"
          ]
        },
        {
          "output_type": "stream",
          "name": "stdout",
          "text": [
            "SELECT `Customer Name`, `Revenue` \n",
            "FROM `LastWeekTopCustomers` \n",
            "ORDER BY `Revenue` DESC \n",
            "LIMIT 10;\n",
            "```\n"
          ]
        },
        {
          "output_type": "stream",
          "name": "stderr",
          "text": [
            "INFO:werkzeug:127.0.0.1 - - [21/Apr/2024 09:52:14] \"POST /run_query HTTP/1.1\" 200 -\n"
          ]
        },
        {
          "output_type": "stream",
          "name": "stdout",
          "text": [
            "SELECT `Customer Name`, `Revenue` \n",
            "FROM `LastWeekTopCustomers` \n",
            "ORDER BY `Revenue` DESC \n",
            "LIMIT 10;\n",
            "```\n"
          ]
        },
        {
          "output_type": "stream",
          "name": "stderr",
          "text": [
            "INFO:werkzeug:127.0.0.1 - - [21/Apr/2024 09:52:25] \"POST /run_query HTTP/1.1\" 200 -\n"
          ]
        },
        {
          "output_type": "stream",
          "name": "stdout",
          "text": [
            "SELECT `Customer Name`, `Revenue` \n",
            "FROM `LastWeekTopCustomers` \n",
            "ORDER BY `Revenue` DESC \n",
            "LIMIT 10;\n",
            "```\n"
          ]
        },
        {
          "output_type": "stream",
          "name": "stderr",
          "text": [
            "INFO:werkzeug:127.0.0.1 - - [21/Apr/2024 09:52:35] \"POST /run_query HTTP/1.1\" 200 -\n"
          ]
        },
        {
          "output_type": "stream",
          "name": "stdout",
          "text": [
            "SELECT `Customer Name`, `Revenue` \n",
            "FROM `LastWeekTopCustomers` \n",
            "ORDER BY `Revenue` DESC \n",
            "LIMIT 10;\n"
          ]
        },
        {
          "output_type": "stream",
          "name": "stderr",
          "text": [
            "INFO:werkzeug:127.0.0.1 - - [21/Apr/2024 09:52:43] \"POST /run_query HTTP/1.1\" 200 -\n"
          ]
        },
        {
          "output_type": "stream",
          "name": "stdout",
          "text": [
            "SELECT SUM(`Revenue`) AS TotalRevenue\n",
            "FROM LastWeekSalesByDay\n"
          ]
        },
        {
          "output_type": "stream",
          "name": "stderr",
          "text": [
            "INFO:werkzeug:127.0.0.1 - - [21/Apr/2024 09:52:54] \"POST /run_query HTTP/1.1\" 200 -\n"
          ]
        },
        {
          "output_type": "stream",
          "name": "stdout",
          "text": [
            "SELECT SUM(`Revenue`) AS TotalRevenue\n",
            "FROM LastWeekSalesByDay\n"
          ]
        },
        {
          "output_type": "stream",
          "name": "stderr",
          "text": [
            "INFO:werkzeug:127.0.0.1 - - [21/Apr/2024 09:53:04] \"POST /run_query HTTP/1.1\" 200 -\n"
          ]
        },
        {
          "output_type": "stream",
          "name": "stdout",
          "text": [
            "SELECT SUM(`Revenue`) AS TotalRevenue\n",
            "FROM LastWeekSalesByDay\n"
          ]
        },
        {
          "output_type": "stream",
          "name": "stderr",
          "text": [
            "INFO:werkzeug:127.0.0.1 - - [21/Apr/2024 09:53:13] \"POST /run_query HTTP/1.1\" 200 -\n"
          ]
        },
        {
          "output_type": "stream",
          "name": "stdout",
          "text": [
            "SELECT `Customer Name`, `Revenue` \n",
            "FROM `LastWeekTopCustomers` \n",
            "ORDER BY `Revenue` DESC \n",
            "LIMIT 10;\n"
          ]
        },
        {
          "output_type": "stream",
          "name": "stderr",
          "text": [
            "INFO:werkzeug:127.0.0.1 - - [21/Apr/2024 09:53:27] \"POST /run_query HTTP/1.1\" 200 -\n"
          ]
        },
        {
          "output_type": "stream",
          "name": "stdout",
          "text": [
            "SELECT `Customer Name`, `Revenue` \n",
            "FROM `LastWeekTopCustomers` \n",
            "ORDER BY `Revenue` DESC \n",
            "LIMIT 5;\n"
          ]
        },
        {
          "output_type": "stream",
          "name": "stderr",
          "text": [
            "INFO:werkzeug:127.0.0.1 - - [21/Apr/2024 09:53:36] \"POST /run_query HTTP/1.1\" 200 -\n"
          ]
        },
        {
          "output_type": "stream",
          "name": "stdout",
          "text": [
            "SELECT `Customer Name`, `Revenue` \n",
            "FROM `LastWeekTopCustomers` \n",
            "ORDER BY `Revenue` DESC \n",
            "LIMIT 10;\n",
            "```\n"
          ]
        },
        {
          "output_type": "stream",
          "name": "stderr",
          "text": [
            "INFO:werkzeug:127.0.0.1 - - [21/Apr/2024 09:53:47] \"POST /run_query HTTP/1.1\" 200 -\n"
          ]
        },
        {
          "output_type": "stream",
          "name": "stdout",
          "text": [
            "SELECT `Customer Name`, `Revenue` \n",
            "FROM `LastWeekTopCustomers` \n",
            "ORDER BY `Revenue` DESC \n",
            "LIMIT 5;\n"
          ]
        },
        {
          "output_type": "stream",
          "name": "stderr",
          "text": [
            "INFO:werkzeug:127.0.0.1 - - [21/Apr/2024 09:53:56] \"POST /run_query HTTP/1.1\" 200 -\n"
          ]
        },
        {
          "output_type": "stream",
          "name": "stdout",
          "text": [
            "SELECT `Customer Name`, `Revenue` \n",
            "FROM `LastWeekTopCustomers` \n",
            "ORDER BY `Revenue` DESC \n",
            "LIMIT 5;\n"
          ]
        },
        {
          "output_type": "stream",
          "name": "stderr",
          "text": [
            "INFO:werkzeug:127.0.0.1 - - [21/Apr/2024 09:54:04] \"POST /run_query HTTP/1.1\" 200 -\n"
          ]
        },
        {
          "output_type": "stream",
          "name": "stdout",
          "text": [
            "SELECT `Customer Name`, `Revenue` \n",
            "FROM `LastWeekTopCustomers` \n",
            "ORDER BY `Revenue` DESC \n",
            "LIMIT 5;\n"
          ]
        },
        {
          "output_type": "stream",
          "name": "stderr",
          "text": [
            "INFO:werkzeug:127.0.0.1 - - [21/Apr/2024 09:54:12] \"POST /run_query HTTP/1.1\" 200 -\n"
          ]
        },
        {
          "output_type": "stream",
          "name": "stdout",
          "text": [
            "SELECT `Customer Name`, `Revenue` \n",
            "FROM `LastWeekTopCustomers` \n",
            "ORDER BY `Revenue` DESC \n",
            "LIMIT 5;\n",
            "```\n"
          ]
        },
        {
          "output_type": "stream",
          "name": "stderr",
          "text": [
            "INFO:werkzeug:127.0.0.1 - - [21/Apr/2024 09:54:19] \"POST /run_query HTTP/1.1\" 200 -\n"
          ]
        },
        {
          "output_type": "stream",
          "name": "stdout",
          "text": [
            "SELECT `Balance` \n",
            "FROM `CashFlowReport`\n",
            "LIMIT 1;\n",
            "```\n"
          ]
        },
        {
          "output_type": "stream",
          "name": "stderr",
          "text": [
            "INFO:werkzeug:127.0.0.1 - - [21/Apr/2024 09:55:37] \"POST /run_query HTTP/1.1\" 200 -\n"
          ]
        },
        {
          "output_type": "stream",
          "name": "stdout",
          "text": [
            "SELECT `Product Description`, `Revenue` \n",
            "FROM `LastWeekTopProducts` \n",
            "ORDER BY `Revenue` DESC \n",
            "LIMIT 5;\n"
          ]
        },
        {
          "output_type": "stream",
          "name": "stderr",
          "text": [
            "INFO:werkzeug:127.0.0.1 - - [21/Apr/2024 09:55:53] \"POST /run_query HTTP/1.1\" 200 -\n"
          ]
        },
        {
          "output_type": "stream",
          "name": "stdout",
          "text": [
            "SELECT `Product Description`, `Minimum stock`, `Current stock`, `Expected Qty`, `Required  stock` \n",
            "FROM `UnderStockedProducts` \n",
            "WHERE `Expected Qty` = 0\n",
            "LIMIT 1000;\n"
          ]
        },
        {
          "output_type": "stream",
          "name": "stderr",
          "text": [
            "INFO:werkzeug:127.0.0.1 - - [21/Apr/2024 09:56:16] \"POST /run_query HTTP/1.1\" 200 -\n"
          ]
        },
        {
          "output_type": "stream",
          "name": "stdout",
          "text": [
            "SELECT `Revenue` \n",
            "FROM `LastWeekSalesByDay` \n",
            "WHERE `Date` = DATE_SUB(CURDATE(), INTERVAL 1 DAY) \n",
            "\tOR `Date` = DATE_SUB(CURDATE(), INTERVAL 6 DAY)\n",
            "ORDER BY `Date` DESC\n",
            "LIMIT 2;\n"
          ]
        },
        {
          "output_type": "stream",
          "name": "stderr",
          "text": [
            "INFO:werkzeug:127.0.0.1 - - [21/Apr/2024 09:57:12] \"POST /run_query HTTP/1.1\" 200 -\n"
          ]
        },
        {
          "output_type": "stream",
          "name": "stdout",
          "text": [
            "SELECT AVG(`Amount`) AS `Average Order Value` FROM `LastWeekOrderStatistics` WHERE `Channel` = 'Online Retailers'\n"
          ]
        },
        {
          "output_type": "stream",
          "name": "stderr",
          "text": [
            "INFO:werkzeug:127.0.0.1 - - [21/Apr/2024 09:57:45] \"POST /run_query HTTP/1.1\" 200 -\n"
          ]
        }
      ],
      "source": [
        "# Import necessary libraries\n",
        "from flask import Flask, request, jsonify, render_template, send_from_directory, make_response\n",
        "from pyngrok import ngrok, conf\n",
        "import requests\n",
        "from operator import itemgetter\n",
        "from langchain_core.output_parsers import StrOutputParser\n",
        "from langchain_core.prompts import PromptTemplate\n",
        "from langchain_core.runnables import RunnablePassthrough\n",
        "from langchain_community.tools.sql_database.tool import QuerySQLDataBaseTool\n",
        "\n",
        "# Initialize Flask app\n",
        "\n",
        "conf.get_default().auth_token = \"2fP5qkG9bfrHhQKYeqbX3VPY7bT_6Rda87eSFwgcpX7vcmBr\"\n",
        "\n",
        "app = Flask(__name__)\n",
        "\n",
        "@app.route('/')\n",
        "def index():\n",
        "    # Load HTML content\n",
        "    html_url = 'https://panosgio.org/hackathon/index.html'\n",
        "    html_response = requests.get(html_url)\n",
        "    html_content = html_response.text\n",
        "\n",
        "    # Load CSS content\n",
        "    css_url = 'https://panosgio.org/hackathon/ui.css'\n",
        "    css_response = requests.get(css_url)\n",
        "    css_content = css_response.text\n",
        "\n",
        "    # Load JavaScript content\n",
        "    js_url = 'https://panosgio.org/hackathon/ui.js'\n",
        "    js_response = requests.get(js_url)\n",
        "    js_content = js_response.text\n",
        "\n",
        "    # Embed CSS and JS into HTML\n",
        "    html_content = html_content.replace('<link rel=\"stylesheet\" href=\"ui.css\">', '<style>' + css_content + '</style>')\n",
        "    html_content = html_content.replace('<script src=\"ui.js\"></script>', '<script>' + js_content + '</script>')\n",
        "\n",
        "    # Return the modified HTML content\n",
        "    return make_response(html_content)\n",
        "\n",
        "# Define the endpoint\n",
        "@app.route('/run_query', methods=['POST'])\n",
        "def run_query():\n",
        "\n",
        "    question = request.json.get('question')\n",
        "\n",
        "\n",
        "    llm = ChatOpenAI(model=\"gpt-3.5-turbo\", temperature=0)\n",
        "    generate_query = create_sql_query_chain(llm, db, k=1000)\n",
        "    query = generate_query.invoke({\"question\": question})\n",
        "    # print(query)\n",
        "    # answer_prompt = PromptTemplate.from_template(\"write it to sql format. : SQL Query: {query} Answer: \")\n",
        "    # rephrase_answer = answer_prompt | llm | StrOutputParser()\n",
        "    # print(rephrase_answer)\n",
        "    # # execute_query = QuerySQLDataBaseTool(db=db)\n",
        "    # chain = (\n",
        "    #     RunnablePassthrough.assign(query=generate_query).assign(\n",
        "    #         result=itemgetter(\"query\") | execute_query\n",
        "    #     )\n",
        "    #     | rephrase_answer\n",
        "    # )\n",
        "\n",
        "    # query2 = chain.invoke({\"question\": question})\n",
        "    print(query)\n",
        "    execute_query = QuerySQLDataBaseTool(db=db)\n",
        "    execute_query.invoke(query)\n",
        "\n",
        "\n",
        "    answer_prompt = PromptTemplate.from_template(\n",
        "        \"\"\"Given the following user question, corresponding SQL query, and SQL result, answer the user question.\n",
        "\n",
        "    Question: {question}\n",
        "    SQL Query: {query}\n",
        "    SQL Result: {result}\n",
        "    Answer: \"\"\"\n",
        "    )\n",
        "\n",
        "    rephrase_answer = answer_prompt | llm | StrOutputParser()\n",
        "\n",
        "    chain = (\n",
        "        RunnablePassthrough.assign(query=generate_query).assign(\n",
        "            result=itemgetter(\"query\") | execute_query\n",
        "        )\n",
        "        | rephrase_answer\n",
        "    )\n",
        "\n",
        "\n",
        "\n",
        "\n",
        "    # Return the response\n",
        "    return jsonify({\"answer\": chain.invoke({\"question\": question})})\n",
        "\n",
        "# Run the Flask app on Colab\n",
        "if __name__ == '__main__':\n",
        "    public_url = ngrok.connect(5000).public_url\n",
        "    print(' * Tunnel URL:', public_url)\n",
        "    app.run(port=5000)\n"
      ]
    }
  ],
  "metadata": {
    "colab": {
      "provenance": []
    },
    "kernelspec": {
      "display_name": "Python 3",
      "name": "python3"
    },
    "language_info": {
      "name": "python"
    }
  },
  "nbformat": 4,
  "nbformat_minor": 0
}